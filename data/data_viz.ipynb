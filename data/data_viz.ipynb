{
 "cells": [
  {
   "cell_type": "code",
   "execution_count": 13,
   "metadata": {},
   "outputs": [],
   "source": [
    "import matplotlib.pyplot as plt\n",
    "import math\n",
    "import copy\n",
    "import numpy as np\n",
    "import pandas as pd\n",
    "from spacy.lang.en import English\n",
    "from sklearn.model_selection import train_test_split\n",
    "\n",
    "tokenizer = English().Defaults.create_tokenizer()"
   ]
  },
  {
   "cell_type": "code",
   "execution_count": 2,
   "metadata": {},
   "outputs": [],
   "source": [
    "# Data\n",
    "train_data = pd.read_csv('./train/msgs_concat_informative.tsv', sep='\\t')\n",
    "val_data = pd.read_csv('./val/msgs_concat_informative.tsv', sep='\\t')\n",
    "test_data = pd.read_csv('./test/msgs_concat_informative.tsv', sep='\\t')"
   ]
  },
  {
   "cell_type": "markdown",
   "metadata": {},
   "source": [
    "# Text Length Analyses"
   ]
  },
  {
   "cell_type": "code",
   "execution_count": 5,
   "metadata": {},
   "outputs": [],
   "source": [
    "def plot_distr_lengths(df):\n",
    "    text = df.text.values.tolist()\n",
    "    lengths = [len(tokenizer(t)) for t in text]\n",
    "    print(\"Number of phrases with n > 80 words: {}.\".format(np.sum(np.greater(np.array(lengths), 80))))\n",
    "    plt.hist(lengths)"
   ]
  },
  {
   "cell_type": "code",
   "execution_count": 6,
   "metadata": {},
   "outputs": [
    {
     "name": "stdout",
     "output_type": "stream",
     "text": [
      "Number of phrases with n > 80 words: 6.\n"
     ]
    },
    {
     "data": {
      "image/png": "[encoded data removed]",
      "text/plain": [
       "<Figure size 432x288 with 1 Axes>"
      ]
     },
     "metadata": {
      "needs_background": "light"
     },
     "output_type": "display_data"
    }
   ],
   "source": [
    "plot_distr_lengths(train_data)"
   ]
  },
  {
   "cell_type": "code",
   "execution_count": 7,
   "metadata": {},
   "outputs": [
    {
     "name": "stdout",
     "output_type": "stream",
     "text": [
      "Number of phrases with n > 80 words: 5.\n"
     ]
    },
    {
     "data": {
      "image/png": "[encoded data removed]",
      "text/plain": [
       "<Figure size 432x288 with 1 Axes>"
      ]
     },
     "metadata": {
      "needs_background": "light"
     },
     "output_type": "display_data"
    }
   ],
   "source": [
    "plot_distr_lengths(val_data)"
   ]
  },
  {
   "cell_type": "markdown",
   "metadata": {},
   "source": [
    "# Salient Feature Coverage"
   ]
  },
  {
   "cell_type": "code",
   "execution_count": 40,
   "metadata": {},
   "outputs": [],
   "source": [
    "# Determine Coverage of Salient Features \n",
    "# Across Train/Validation/Test Splits\n",
    "\n",
    "# Read files into memory\n",
    "salient_feats = list(pd.read_json('./raw/stims/salient_features.json')[0])\n",
    "rules_to_feats_df = pd.read_json('./raw/stims/salient_feature_rule_mapping.json')\n",
    "train_rules_df = pd.read_json('./train/rules.json').transpose()\n",
    "val_rules_df = pd.read_json('./val/rules.json').transpose()\n",
    "test_rules_df = pd.read_json('./test/rules.json').transpose()"
   ]
  },
  {
   "cell_type": "code",
   "execution_count": 4,
   "metadata": {},
   "outputs": [],
   "source": [
    "def gen_rule_feats_mappings(df):\n",
    "    # Generate dicts of:\n",
    "    # 1) features -> rules\n",
    "    # 2) rules -> features\n",
    "    feats_to_rules = {}\n",
    "    rules_to_feats = {}\n",
    "    for index, rule in df.iterrows():\n",
    "        name = rule.to_dict()['name']\n",
    "        properties = rule.properties\n",
    "        for p in properties:\n",
    "            if p not in feats_to_rules:\n",
    "                feats_to_rules[p] = [name]\n",
    "            else:\n",
    "                feats_to_rules[p].append(name)\n",
    "        rules_to_feats[name] = properties\n",
    "    return rules_to_feats, feats_to_rules"
   ]
  },
  {
   "cell_type": "code",
   "execution_count": 5,
   "metadata": {},
   "outputs": [],
   "source": [
    "def get_percentage_coverage(rules_df, feats=salient_feats, rules_to_feats_df=rules_to_feats_df):\n",
    "    feat_coverage = set()\n",
    "    feats = set(feats)\n",
    "    rules_to_feats, _ = gen_rule_feats_mappings(rules_to_feats_df)\n",
    "    for index, rule in rules_df.iterrows():\n",
    "        rule_name = rule.to_dict()['name']\n",
    "        for f in rules_to_feats[rule_name]:\n",
    "            feat_coverage.add(f)\n",
    "    print('{} % of salient features captured by rules '.format(len(feat_coverage) * 1.0 / len(feats) * 100))\n",
    "    return feat_coverage\n",
    "\n",
    "def get_percentage_coverages(train, val, test):\n",
    "    # Get coverages for train/val/test\n",
    "    print(\"train\")\n",
    "    train_coverage = get_percentage_coverage(train)\n",
    "    print(\"val\")\n",
    "    val_coverage = get_percentage_coverage(val)\n",
    "    print(\"test\")\n",
    "    test_coverage = get_percentage_coverage(test)\n",
    "    return train_coverage, val_coverage, test_coverage"
   ]
  },
  {
   "cell_type": "code",
   "execution_count": 41,
   "metadata": {},
   "outputs": [
    {
     "name": "stdout",
     "output_type": "stream",
     "text": [
      "train\n",
      "100.0 % of salient features captured by rules \n",
      "val\n",
      "44.44444444444444 % of salient features captured by rules \n",
      "test\n",
      "42.22222222222222 % of salient features captured by rules \n"
     ]
    }
   ],
   "source": [
    "_, _, _ = get_percentage_coverages(train_rules_df, val_rules_df, test_rules_df)"
   ]
  },
  {
   "cell_type": "code",
   "execution_count": 21,
   "metadata": {},
   "outputs": [],
   "source": [
    "def allocate_rules(rules_to_feats_df=rules_to_feats_df, feats=salient_feats, splits=(70, 15, 15)):    \n",
    "    train_rules, val_rules, test_rules = [], [], []\n",
    "    train_feats, val_feats, test_feats = set(), set(), set()\n",
    "    assert(splits[0] + splits[1] + splits[2] == 100)\n",
    "\n",
    "    rules_to_feats, feats_to_rules = gen_rule_feats_mappings(rules_to_feats_df)\n",
    "    l = sorted(feats_to_rules.items(), key=lambda kv: len(kv[1]))\n",
    "\n",
    "    def remove_rule(l, rule):\n",
    "        # Remove rule from list of ((feat, [rule_1, rule_2]))\n",
    "        c = copy.deepcopy(l)\n",
    "        for i, t in enumerate(l):\n",
    "            if rule in t[1]:   \n",
    "                c[i][1].remove(rule)\n",
    "        return c\n",
    "    \n",
    "    def clean_list(l):\n",
    "        # Remove feature which has no more rules left\n",
    "        l = [t for t in l if len(t[1]) > 0]\n",
    "        return l\n",
    "    \n",
    "    # Assign a rule with each feature\n",
    "    # to the training set to ensure 100%\n",
    "    # coverage of salient features during training\n",
    "    for t in l:\n",
    "        feat, rules = t\n",
    "        if feat not in train_feats:\n",
    "            r = rules[0]\n",
    "            for f in rules_to_feats[r]:\n",
    "                train_feats.add(f)\n",
    "            train_rules.append(r)\n",
    "            l = remove_rule(l, r)\n",
    "    l = clean_list(l)\n",
    "    \n",
    "    # Split the remaining rules\n",
    "    remaining_rules = [r for r in rules_to_feats.keys() if r not in train_rules]\n",
    "    train_percentage = ((splits[0] * 1.0 / 100 * len(rules_to_feats.keys())) - len(train_rules)) / len(remaining_rules)\n",
    "    \n",
    "    add_train_rules, other = train_test_split(remaining_rules, train_size=train_percentage, random_state=42)\n",
    "    test_rules, val_rules = train_test_split(other, train_size=(splits[1]/(1.0 * (splits[1] + splits[2]))), random_state=42)\n",
    "    \n",
    "    return train_rules + add_train_rules, val_rules, test_rules"
   ]
  },
  {
   "cell_type": "code",
   "execution_count": 27,
   "metadata": {},
   "outputs": [],
   "source": [
    "def gen_rules_df(rules, all_rules_df):\n",
    "    return all_rules_df.loc[all_rules_df['name'].isin(rules)]"
   ]
  },
  {
   "cell_type": "code",
   "execution_count": 35,
   "metadata": {},
   "outputs": [
    {
     "name": "stdout",
     "output_type": "stream",
     "text": [
      "train\n",
      "100.0 % of salient features captured by rules \n",
      "val\n",
      "44.44444444444444 % of salient features captured by rules \n",
      "test\n",
      "42.22222222222222 % of salient features captured by rules \n"
     ]
    },
    {
     "name": "stderr",
     "output_type": "stream",
     "text": [
      "/Users/Sahil/anaconda3/lib/python3.7/site-packages/sklearn/model_selection/_split.py:2179: FutureWarning: From version 0.21, test_size will always complement train_size unless both are specified.\n",
      "  FutureWarning)\n"
     ]
    }
   ],
   "source": [
    "# Construct dataframes of the new data splits\n",
    "new_train_rules, new_val_rules, new_test_rules =  allocate_rules(rules_to_feats_df)\n",
    "all_rules_df = pd.concat([train_rules_df, val_rules_df, test_rules_df])\n",
    "new_train_rules_df = gen_rules_df(new_train_rules, all_rules_df)\n",
    "new_val_rules_df = gen_rules_df(new_val_rules, all_rules_df)\n",
    "new_test_rules_df = gen_rules_df(new_test_rules, all_rules_df)\n",
    "\n",
    "# Check new feature coverages\n",
    "_, _, _ = get_percentage_coverages(new_train_rules_df, new_val_rules_df, new_test_rules_df)\n"
   ]
  },
  {
   "cell_type": "code",
   "execution_count": 39,
   "metadata": {},
   "outputs": [],
   "source": [
    "new_train_rules_df.transpose().to_json('./train/rules.json')\n",
    "new_val_rules_df.transpose().to_json('./val/rules.json')\n",
    "new_test_rules_df.transpose().to_json('./test/rules.json')"
   ]
  },
  {
   "cell_type": "code",
   "execution_count": null,
   "metadata": {},
   "outputs": [],
   "source": []
  }
 ],
 "metadata": {
  "kernelspec": {
   "display_name": "Python 3",
   "language": "python",
   "name": "python3"
  },
  "language_info": {
   "codemirror_mode": {
    "name": "ipython",
    "version": 3
   },
   "file_extension": ".py",
   "mimetype": "text/x-python",
   "name": "python",
   "nbconvert_exporter": "python",
   "pygments_lexer": "ipython3",
   "version": "3.7.1"
  }
 },
 "nbformat": 4,
 "nbformat_minor": 2
}
